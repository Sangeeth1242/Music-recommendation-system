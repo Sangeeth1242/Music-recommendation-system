{
 "cells": [
  {
   "cell_type": "code",
   "execution_count": 1,
   "id": "5dfb12ab",
   "metadata": {},
   "outputs": [],
   "source": [
    "import requests\n",
    "import base64\n",
    "import sys"
   ]
  },
  {
   "cell_type": "code",
   "execution_count": 2,
   "id": "6f1abb77",
   "metadata": {},
   "outputs": [],
   "source": [
    "CLIENT_ID = '9cbb2e201276412ea1a06d2e23ef5c65'\n",
    "CLIENT_SECRET = '12c52f0591de4da4b18d66119e24c36c'"
   ]
  },
  {
   "cell_type": "code",
   "execution_count": 3,
   "id": "e9f51ece",
   "metadata": {},
   "outputs": [],
   "source": [
    "client_credentials = f\"{CLIENT_ID}:{CLIENT_SECRET}\"\n",
    "client_credentials_base64 = base64.b64encode(client_credentials.encode())"
   ]
  },
  {
   "cell_type": "code",
   "execution_count": 4,
   "id": "262ce18f",
   "metadata": {},
   "outputs": [
    {
     "name": "stdout",
     "output_type": "stream",
     "text": [
      "Access token obtained successfully: BQAZTO3tcbXltum20WBMK2wD3KYSXv2gZ6niJ9MIgk-S8aciWGfpawz7ZRnJgoQ9jQzZ9aT0uuyeZcX5KTgvEwH8KyrQ--f-DVIwGqvKhSE9j2nHC8Y\n"
     ]
    }
   ],
   "source": [
    "token_url = 'https://accounts.spotify.com/api/token'\n",
    "headers = {\n",
    "    'Authorization': f'Basic {client_credentials_base64.decode()}',\n",
    "    'Content-Type': 'application/x-www-form-urlencoded'\n",
    "}\n",
    "data = {\n",
    "    'grant_type': 'client_credentials'\n",
    "}\n",
    "try:\n",
    "    response = requests.post(token_url, data=data, headers=headers)\n",
    "    if response.status_code == 200:\n",
    "        access_token = response.json()['access_token']\n",
    "        print(\"Access token obtained successfully:\", access_token)\n",
    "    else:\n",
    "        print(f\"Error obtaining access token: {response.status_code} - {response.reason}\")\n",
    "        print(\"Response:\", response.text)\n",
    "        sys.exit(1)\n",
    "except requests.exceptions.RequestException as e:\n",
    "    print(f\"An error occurred: {e}\")\n",
    "    sys.exit(1)"
   ]
  },
  {
   "cell_type": "code",
   "execution_count": 5,
   "id": "0aef89e6",
   "metadata": {},
   "outputs": [],
   "source": [
    "import pandas as pd\n",
    "import spotipy\n",
    "from spotipy.oauth2 import SpotifyOAuth"
   ]
  },
  {
   "cell_type": "code",
   "execution_count": 6,
   "id": "000bfb5c",
   "metadata": {},
   "outputs": [],
   "source": [
    "def get_trending_playlist_data(playlist_id, access_token):\n",
    "    sp = spotipy.Spotify(auth=access_token)\n",
    "    playlist_tracks = sp.playlist_tracks(playlist_id, fields='items(track(id, name, artists, album(id, name)))')\n",
    "    music_data = []\n",
    "    for track_info in playlist_tracks['items']:\n",
    "        track = track_info['track']\n",
    "        track_name = track['name']\n",
    "        artists = ', '.join([artist['name'] for artist in track['artists']])\n",
    "        album_name = track['album']['name']\n",
    "        album_id = track['album']['id']\n",
    "        track_id = track['id']\n",
    "        audio_features = sp.audio_features(track_id)[0] if track_id != 'Not available' else None\n",
    "        try:\n",
    "            album_info = sp.album(album_id) if album_id != 'Not available' else None\n",
    "            release_date = album_info['release_date'] if album_info else None\n",
    "        except:\n",
    "            release_date = None\n",
    "        try:\n",
    "            track_info = sp.track(track_id) if track_id != 'Not available' else None\n",
    "            popularity = track_info['popularity'] if track_info else None\n",
    "        except:\n",
    "            popularity = None\n",
    "        track_data = {\n",
    "            'Track Name': track_name,\n",
    "            'Artists': artists,\n",
    "            'Album Name': album_name,\n",
    "            'Album ID': album_id,\n",
    "            'Track ID': track_id,\n",
    "            'Popularity': popularity,\n",
    "            'Release Date': release_date,\n",
    "            'Duration (ms)': audio_features['duration_ms'] if audio_features else None,\n",
    "            'Explicit': track_info.get('explicit', None),\n",
    "            'External URLs': track_info.get('external_urls', {}).get('spotify', None),\n",
    "            'Danceability': audio_features['danceability'] if audio_features else None,\n",
    "            'Energy': audio_features['energy'] if audio_features else None,\n",
    "            'Key': audio_features['key'] if audio_features else None,\n",
    "            'Loudness': audio_features['loudness'] if audio_features else None,\n",
    "            'Mode': audio_features['mode'] if audio_features else None,\n",
    "            'Speechiness': audio_features['speechiness'] if audio_features else None,\n",
    "            'Acousticness': audio_features['acousticness'] if audio_features else None,\n",
    "            'Instrumentalness': audio_features['instrumentalness'] if audio_features else None,\n",
    "            'Liveness': audio_features['liveness'] if audio_features else None,\n",
    "            'Valence': audio_features['valence'] if audio_features else None,\n",
    "            'Tempo': audio_features['tempo'] if audio_features else None,\n",
    "        }\n",
    "        music_data.append(track_data)\n",
    "    df = pd.DataFrame(music_data)\n",
    "    return df"
   ]
  },
  {
   "cell_type": "code",
   "execution_count": 7,
   "id": "0424eb62",
   "metadata": {},
   "outputs": [
    {
     "name": "stdout",
     "output_type": "stream",
     "text": [
      "            Track Name                                       Artists  \\\n",
      "0              Perfect                                    Ed Sheeran   \n",
      "1         Shape of You                                    Ed Sheeran   \n",
      "2    Thinking out Loud                                    Ed Sheeran   \n",
      "3           Photograph                                    Ed Sheeran   \n",
      "4   Castle on the Hill                                    Ed Sheeran   \n",
      "..                 ...                                           ...   \n",
      "95  Kissing Undercover                                      Ladybyrd   \n",
      "96             Freedom  BEX, Rebecca Houlihan, Captain's Brotherhood   \n",
      "97             Tell Me                                    Kasey Jane   \n",
      "98            Run Away                              Xi Aquarii, K1NA   \n",
      "99           Safe 2024                            Paul in the Short5   \n",
      "\n",
      "            Album Name                Album ID                Track ID  \\\n",
      "0           ÷ (Deluxe)  3T4tUhGYeRNVUGevb0wThu  0tgVpDi06FyKpA1z0VMD4v   \n",
      "1           ÷ (Deluxe)  3T4tUhGYeRNVUGevb0wThu  7qiZfU4dY1lWllzX7mPBI3   \n",
      "2   x (Deluxe Edition)  1xn54DMo2qIqBuMqHtUsFd  34gCuhDGsG4bRPIf9bb02f   \n",
      "3   x (Deluxe Edition)  1xn54DMo2qIqBuMqHtUsFd  1HNkqx9Ahdgi1Ixy2xkKkL   \n",
      "4           ÷ (Deluxe)  3T4tUhGYeRNVUGevb0wThu  6PCUP3dWmTjcTtXY02oFdT   \n",
      "..                 ...                     ...                     ...   \n",
      "95  Kissing Undercover  09VZi0Iy0WVxIB26zYhMVk  2gG3i2sg2vZURAuhJzrLkQ   \n",
      "96             Freedom  6lpH0WdSz0W2PFHfo9nCj4  6juHJWByjGur8F3uiULRwo   \n",
      "97             Tell Me  0jEWfcpWIBoqUL3DJFCrGx  0qNVcCohgniUSJf0tMZRQV   \n",
      "98            Run Away  78YrxAqrTl7EXyT98mzjhh  4ULWRzJioUQqZ4jrzZsBwg   \n",
      "99           Safe 2024  0lgYfQd4ZkF9eGqmEJ0VXX  0eV5A7PlTmmQFiVpriyoUy   \n",
      "\n",
      "    Popularity Release Date  Duration (ms)  Explicit  \\\n",
      "0           85   2017-03-03         263400     False   \n",
      "1           85   2017-03-03         233713     False   \n",
      "2           81   2014-06-21         281560     False   \n",
      "3           82   2014-06-21         258987     False   \n",
      "4           77   2017-03-03         261154     False   \n",
      "..         ...          ...            ...       ...   \n",
      "95          37   2024-06-21         192806     False   \n",
      "96          29   2024-06-06         300508     False   \n",
      "97          29   2024-04-26         160645     False   \n",
      "98          25   2024-08-16         216000     False   \n",
      "99          32   2024-07-30         232500     False   \n",
      "\n",
      "                                        External URLs  ...  Energy  Key  \\\n",
      "0   https://open.spotify.com/track/0tgVpDi06FyKpA1...  ...   0.448    8   \n",
      "1   https://open.spotify.com/track/7qiZfU4dY1lWllz...  ...   0.652    1   \n",
      "2   https://open.spotify.com/track/34gCuhDGsG4bRPI...  ...   0.445    2   \n",
      "3   https://open.spotify.com/track/1HNkqx9Ahdgi1Ix...  ...   0.379    4   \n",
      "4   https://open.spotify.com/track/6PCUP3dWmTjcTtX...  ...   0.834    2   \n",
      "..                                                ...  ...     ...  ...   \n",
      "95  https://open.spotify.com/track/2gG3i2sg2vZURAu...  ...   0.810    6   \n",
      "96  https://open.spotify.com/track/6juHJWByjGur8F3...  ...   0.411    2   \n",
      "97  https://open.spotify.com/track/0qNVcCohgniUSJf...  ...   0.841    6   \n",
      "98  https://open.spotify.com/track/4ULWRzJioUQqZ4j...  ...   0.365    7   \n",
      "99  https://open.spotify.com/track/0eV5A7PlTmmQFiV...  ...   0.181    4   \n",
      "\n",
      "    Loudness  Mode  Speechiness  Acousticness  Instrumentalness  Liveness  \\\n",
      "0     -6.312     1       0.0232       0.16300          0.000000    0.1060   \n",
      "1     -3.183     0       0.0802       0.58100          0.000000    0.0931   \n",
      "2     -6.061     1       0.0295       0.47400          0.000000    0.1840   \n",
      "3    -10.480     1       0.0476       0.60700          0.000464    0.0986   \n",
      "4     -4.868     1       0.0989       0.02320          0.000011    0.1400   \n",
      "..       ...   ...          ...           ...               ...       ...   \n",
      "95    -5.826     0       0.0403       0.00146          0.000002    0.1130   \n",
      "96    -8.949     1       0.0443       0.46500          0.000000    0.0998   \n",
      "97    -4.277     0       0.0636       0.02640          0.000000    0.3400   \n",
      "98   -11.092     0       0.0397       0.49500          0.170000    0.1030   \n",
      "99   -20.685     0       0.0510       0.84400          0.480000    0.0776   \n",
      "\n",
      "    Valence    Tempo  \n",
      "0     0.168   95.050  \n",
      "1     0.931   95.977  \n",
      "2     0.591   78.998  \n",
      "3     0.201  107.989  \n",
      "4     0.471  135.007  \n",
      "..      ...      ...  \n",
      "95    0.595  128.107  \n",
      "96    0.281  144.251  \n",
      "97    0.506  123.985  \n",
      "98    0.357  179.930  \n",
      "99    0.143   80.591  \n",
      "\n",
      "[100 rows x 21 columns]\n"
     ]
    }
   ],
   "source": [
    "playlist_id = '6M14oz8xWgu8XzDv5OQB5Y'\n",
    "music_df = get_trending_playlist_data(playlist_id, access_token)\n",
    "print(music_df)"
   ]
  },
  {
   "cell_type": "code",
   "execution_count": 8,
   "id": "97c68b76",
   "metadata": {},
   "outputs": [
    {
     "name": "stdout",
     "output_type": "stream",
     "text": [
      "Track Name          0\n",
      "Artists             0\n",
      "Album Name          0\n",
      "Album ID            0\n",
      "Track ID            0\n",
      "Popularity          0\n",
      "Release Date        0\n",
      "Duration (ms)       0\n",
      "Explicit            0\n",
      "External URLs       0\n",
      "Danceability        0\n",
      "Energy              0\n",
      "Key                 0\n",
      "Loudness            0\n",
      "Mode                0\n",
      "Speechiness         0\n",
      "Acousticness        0\n",
      "Instrumentalness    0\n",
      "Liveness            0\n",
      "Valence             0\n",
      "Tempo               0\n",
      "dtype: int64\n"
     ]
    }
   ],
   "source": [
    "print(music_df.isnull().sum())"
   ]
  },
  {
   "cell_type": "code",
   "execution_count": 9,
   "id": "87e635c9",
   "metadata": {},
   "outputs": [],
   "source": [
    "import pandas as pd\n",
    "import numpy as np\n",
    "from sklearn.model_selection import train_test_split\n",
    "from sklearn.preprocessing import MinMaxScaler\n",
    "from datetime import datetime\n",
    "from sklearn.metrics.pairwise import cosine_similarity\n",
    "\n",
    "data = music_df"
   ]
  },
  {
   "cell_type": "code",
   "execution_count": 10,
   "id": "1fc92521",
   "metadata": {},
   "outputs": [],
   "source": [
    "def calculate_weighted_popularity(release_date):\n",
    "    release_date = datetime.strptime(release_date, '%Y-%m-%d')\n",
    "    time_span = datetime.now() - release_date\n",
    "    weight = 1 / (time_span.days + 1)\n",
    "    return weight"
   ]
  },
  {
   "cell_type": "code",
   "execution_count": 11,
   "id": "55318bba",
   "metadata": {},
   "outputs": [],
   "source": [
    "scaler = MinMaxScaler()\n",
    "music_features = music_df[['Danceability', 'Energy', 'Key', \n",
    "                           'Loudness', 'Mode', 'Speechiness', 'Acousticness',\n",
    "                           'Instrumentalness', 'Liveness', 'Valence', 'Tempo']].values\n",
    "music_features_scaled = scaler.fit_transform(music_features)"
   ]
  },
  {
   "cell_type": "code",
   "execution_count": 12,
   "id": "33da8040",
   "metadata": {},
   "outputs": [],
   "source": [
    "def content_based_recommendations(input_song_name, num_recommendations=5):\n",
    "    if input_song_name not in music_df['Track Name'].values:\n",
    "        print(f\"'{input_song_name}' not found in the dataset. Please enter a valid song name.\")\n",
    "        return\n",
    "    input_song_index = music_df[music_df['Track Name'] == input_song_name].index[0]\n",
    "    similarity_scores = cosine_similarity([music_features_scaled[input_song_index]], music_features_scaled)\n",
    "    similar_song_indices = similarity_scores.argsort()[0][::-1][1:num_recommendations + 1]\n",
    "    content_based_recommendations = music_df.iloc[similar_song_indices][['Track Name', 'Artists', 'Album Name', 'Release Date', 'Popularity']]\n",
    "    return content_based_recommendations"
   ]
  },
  {
   "cell_type": "code",
   "execution_count": 13,
   "id": "3d2b256b",
   "metadata": {},
   "outputs": [],
   "source": [
    "import pandas as pd\n",
    "def hybrid_recommendations(input_song_name, num_recommendations=5, alpha=0.5):\n",
    "    if input_song_name not in music_df['Track Name'].values:\n",
    "        print(f\"'{input_song_name}' not found in the dataset. Please enter a valid song name.\")\n",
    "        return\n",
    "    content_based_rec = content_based_recommendations(input_song_name, num_recommendations)\n",
    "    popularity_score = music_df.loc[music_df['Track Name'] == input_song_name, 'Popularity'].values[0]\n",
    "    weighted_popularity_score = popularity_score * calculate_weighted_popularity(\n",
    "        music_df.loc[music_df['Track Name'] == input_song_name, 'Release Date'].values[0])\n",
    "    new_entry = pd.DataFrame({\n",
    "        'Track Name': [input_song_name],\n",
    "        'Artists': [music_df.loc[music_df['Track Name'] == input_song_name, 'Artists'].values[0]],\n",
    "        'Album Name': [music_df.loc[music_df['Track Name'] == input_song_name, 'Album Name'].values[0]],\n",
    "        'Release Date': [music_df.loc[music_df['Track Name'] == input_song_name, 'Release Date'].values[0]],\n",
    "        'Popularity': [weighted_popularity_score]\n",
    "    })\n",
    "    hybrid_recommendations = pd.concat([content_based_rec, new_entry], ignore_index=True)\n",
    "    hybrid_recommendations = hybrid_recommendations.sort_values(by='Popularity', ascending=False)\n",
    "    hybrid_recommendations = hybrid_recommendations[hybrid_recommendations['Track Name'] != input_song_name]\n",
    "    return hybrid_recommendations"
   ]
  },
  {
   "cell_type": "code",
   "execution_count": 14,
   "id": "7444d214",
   "metadata": {},
   "outputs": [
    {
     "name": "stdout",
     "output_type": "stream",
     "text": [
      "Hybrid recommended songs for 'Perfect':\n",
      "                                       Track Name                     Artists  \\\n",
      "1  Perfect Symphony (Ed Sheeran & Andrea Bocelli)  Ed Sheeran, Andrea Bocelli   \n",
      "0                      How Would You Feel (Paean)                  Ed Sheeran   \n",
      "3               Put It All on Me (feat. Ella Mai)        Ed Sheeran, Ella Mai   \n",
      "2                                           Tides                  Ed Sheeran   \n",
      "4                                      Afire Love                  Ed Sheeran   \n",
      "\n",
      "                                       Album Name Release Date  Popularity  \n",
      "1  Perfect Symphony (Ed Sheeran & Andrea Bocelli)   2017-12-15        65.0  \n",
      "0                                      ÷ (Deluxe)   2017-03-03        63.0  \n",
      "3                     No.6 Collaborations Project   2019-07-12        59.0  \n",
      "2                                               =   2021-10-25        57.0  \n",
      "4                              x (Deluxe Edition)   2014-06-21        55.0  \n"
     ]
    }
   ],
   "source": [
    "input_song_name = \"Perfect\"\n",
    "recommendations = hybrid_recommendations(input_song_name, num_recommendations=5)\n",
    "print(f\"Hybrid recommended songs for '{input_song_name}':\")\n",
    "print(recommendations)"
   ]
  },
  {
   "cell_type": "code",
   "execution_count": null,
   "id": "1c2a1f58",
   "metadata": {},
   "outputs": [],
   "source": []
  },
  {
   "cell_type": "code",
   "execution_count": null,
   "id": "0fe98f18",
   "metadata": {},
   "outputs": [],
   "source": []
  }
 ],
 "metadata": {
  "kernelspec": {
   "display_name": "Python 3 (ipykernel)",
   "language": "python",
   "name": "python3"
  },
  "language_info": {
   "codemirror_mode": {
    "name": "ipython",
    "version": 3
   },
   "file_extension": ".py",
   "mimetype": "text/x-python",
   "name": "python",
   "nbconvert_exporter": "python",
   "pygments_lexer": "ipython3",
   "version": "3.11.5"
  }
 },
 "nbformat": 4,
 "nbformat_minor": 5
}
